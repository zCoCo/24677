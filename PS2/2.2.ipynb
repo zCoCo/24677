{
  "nbformat": 4,
  "nbformat_minor": 0,
  "metadata": {
    "colab": {
      "name": "PS",
      "provenance": [],
      "collapsed_sections": [],
      "include_colab_link": true
    },
    "kernelspec": {
      "name": "python3",
      "display_name": "Python 3"
    }
  },
  "cells": [
    {
      "cell_type": "markdown",
      "metadata": {
        "id": "view-in-github",
        "colab_type": "text"
      },
      "source": [
        "<a href=\"https://colab.research.google.com/github/zCoCo/24677/blob/master/PS2/2.2.ipynb\" target=\"_parent\"><img src=\"https://colab.research.google.com/assets/colab-badge.svg\" alt=\"Open In Colab\"/></a>"
      ]
    },
    {
      "cell_type": "markdown",
      "metadata": {
        "id": "_BMjQyE1VOPO",
        "colab_type": "text"
      },
      "source": [
        "**Longitudinal driving example**"
      ]
    },
    {
      "cell_type": "code",
      "metadata": {
        "id": "nrnZwLJnq9nq",
        "colab_type": "code",
        "colab": {
          "base_uri": "https://localhost:8080/",
          "height": 382
        },
        "outputId": "550baf8e-8d16-41b0-d4e6-5192b029c5e5"
      },
      "source": [
        "import numpy as np\n",
        "from scipy.signal import StateSpace, lsim\n",
        "import matplotlib.pyplot as plt\n",
        " \n",
        "m = 1 # kg\n",
        "A = np.asarray([[0., 1.], # need to use float number not integer, a bug of this package\n",
        "                [0., 0.]])\n",
        "B = np.asarray([[0.],\n",
        "                [1./m]])\n",
        "C = np.asarray([[1., 0.]])\n",
        "D = np.asarray([[0.]])\n",
        "# define the continouse time linear system\n",
        "cart_sys = StateSpace(A, B, C, D)\n",
        "# define simulation steps in time\n",
        "t = np.arange(0, 10, 1e-3)\n",
        "# define control input\n",
        "F = t**2\n",
        "# simulate the system\n",
        "_, y, x = lsim(cart_sys, F, t, X0 = [0.,0.])\n",
        "# plot\n",
        "plt.figure(dpi=100)\n",
        "plt.plot(t, y)\n",
        "plt.ylabel('p [m]')\n",
        "plt.xlabel('t [s]')\n",
        "plt.show()"
      ],
      "execution_count": null,
      "outputs": [
        {
          "output_type": "display_data",
          "data": {
            "image/png": "[encoded data removed]",
            "text/plain": [
              "<Figure size 600x400 with 1 Axes>"
            ]
          },
          "metadata": {
            "tags": [],
            "needs_background": "light"
          }
        }
      ]
    },
    {
      "cell_type": "code",
      "metadata": {
        "id": "HT2oF4NNy_RU",
        "colab_type": "code",
        "colab": {}
      },
      "source": [
        ""
      ],
      "execution_count": null,
      "outputs": []
    }
  ]
}